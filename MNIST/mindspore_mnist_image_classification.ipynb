{
 "cells": [
  {
   "cell_type": "markdown",
   "metadata": {},
   "source": [
    "# MNIST 手写数字识别\n",
    "\n",
    "本次测验需要学生基于MindSpore的API来快速实现一个简单的深度学习模型，完成手写数字识别的任务。该任务旨在考核学生对使用MindSpore完成深度学习全流程的掌握\n",
    "\n",
    "## 学习资料\n",
    "- 虚假的学习资料：\n",
    "  - 官网教程：https://www.mindspore.cn/tutorials/zh-CN/r2.0/index.html\n",
    "  - MidnSpore版《动手学深度学习》：https://openi.pcl.ac.cn/mindspore-courses/d2l-mindspore\n",
    "- 真正的学习资料：\n",
    "    - 实验内容：https://www.mindspore.cn/tutorials/zh-CN/r2.0/beginner/introduction.html\n",
    "\n",
    "## 环境配置\n",
    "\n",
    "- MindSpore 2.0， 安装教程：https://www.mindspore.cn/install\n",
    "- download，可使用命令`pip install download`安装\n",
    "\n",
    "> 如本练习以Notebook运行时，完成安装后需要重启kernel才能执行后续代码。\n"
   ]
  },
  {
   "cell_type": "code",
   "execution_count": 64,
   "metadata": {},
   "outputs": [],
   "source": [
    "import mindspore\n",
    "from mindspore import nn\n",
    "from mindspore.dataset import vision, transforms\n",
    "from mindspore.dataset import MnistDataset"
   ]
  },
  {
   "cell_type": "markdown",
   "metadata": {},
   "source": [
    "## 处理数据集\n",
    "\n",
    "MindSpore提供基于Pipeline的[数据引擎](https://www.mindspore.cn/docs/zh-CN/r2.0/design/data_engine.html)，通过[数据集（Dataset）](https://www.mindspore.cn/tutorials/zh-CN/r2.0/beginner/dataset.html)和[数据变换（Transforms）](https://www.mindspore.cn/tutorials/zh-CN/r2.0/beginner/transforms.html)实现高效的数据预处理。\n",
    "\n",
    "在本次练习中，我们使用Mnist数据集，自动下载完成后，使用`mindspore.dataset`提供的数据变换进行预处理。"
   ]
  },
  {
   "cell_type": "code",
   "execution_count": 65,
   "metadata": {},
   "outputs": [
    {
     "name": "stdout",
     "output_type": "stream",
     "text": [
      "Downloading data from https://mindspore-website.obs.cn-north-4.myhuaweicloud.com/notebook/datasets/MNIST_Data.zip (10.3 MB)\n",
      "\n",
      "file_sizes: 100%|██████████████████████████| 10.8M/10.8M [00:03<00:00, 3.34MB/s]\n",
      "Extracting zip file...\n",
      "Successfully downloaded / unzipped to ./\n"
     ]
    }
   ],
   "source": [
    "# Download data from open datasets\n",
    "from download import download\n",
    "\n",
    "url = \"https://mindspore-website.obs.cn-north-4.myhuaweicloud.com/\" \\\n",
    "      \"notebook/datasets/MNIST_Data.zip\"\n",
    "path = download(url, \"./\", kind=\"zip\", replace=True)"
   ]
  },
  {
   "cell_type": "markdown",
   "metadata": {},
   "source": [
    "数据下载完成后，获得数据集对象。"
   ]
  },
  {
   "cell_type": "code",
   "execution_count": 66,
   "metadata": {},
   "outputs": [],
   "source": [
    "train_dataset = MnistDataset('MNIST_Data/train')\n",
    "test_dataset = MnistDataset('MNIST_Data/test')"
   ]
  },
  {
   "cell_type": "markdown",
   "metadata": {},
   "source": [
    "【练习一】dataset预处理需指定在某个数据列进行操作，请通过`get_col_names`打印数据集中包含的数据列名，用于后续的数据预处理。"
   ]
  },
  {
   "cell_type": "code",
   "execution_count": 67,
   "metadata": {},
   "outputs": [
    {
     "name": "stdout",
     "output_type": "stream",
     "text": [
      "Column Names in the Dataset: ['image', 'label']\n"
     ]
    }
   ],
   "source": [
    "# Exercise 1: print the column names in the dataset.\n",
    "# Add your code here.\n",
    "# 使用get_col_names方法获取数据列名\n",
    "column_names = train_dataset.get_col_names()\n",
    "# 打印数据列名\n",
    "print(\"Column Names in the Dataset:\", column_names)"
   ]
  },
  {
   "cell_type": "markdown",
   "metadata": {},
   "source": [
    "MindSpore的dataset使用数据处理流水线（Data Processing Pipeline），需指定map、batch、shuffle等操作。这里我们使用map对图像数据及标签进行变换处理，然后将处理好的数据集打包为大小为64的batch。\n",
    "\n",
    "【练习二】按照如下步骤，补完图像数据的预处理步骤。\n",
    "\n",
    "- 图片数据处理：\n",
    "    1. 原始图片中，每个像素的灰度值在0-255之间，我们需要通过`Rescale`将数值变为0-1之间；\n",
    "    2. 按照mean=0.1307，std=0.3081，通过`Normalize`对数据进行归一化；\n",
    "    3. 图像的shape为[height(H), width(W), channel(C)]，通过`HWC2CHW`将shape变为[channel(C), height(H), width(W)]；\n",
    "- 标签数据处理：\n",
    "    1. 将数据类型通过`TypeCast`转换为`mindspore.int32`；\n",
    "- 按照batch size进行批处理"
   ]
  },
  {
   "cell_type": "code",
   "execution_count": 68,
   "metadata": {},
   "outputs": [],
   "source": [
    "from mindspore.dataset import vision, transforms\n",
    "\n",
    "def datapipe(dataset, batch_size):\n",
    "    image_transforms = [\n",
    "        vision.Rescale(1.0 / 255.0, 0),\n",
    "        vision.Normalize(mean=(0.1307,), std=(0.3081,)),\n",
    "        vision.HWC2CHW()\n",
    "    ]\n",
    "    label_transform = transforms.TypeCast(mindspore.int32)\n",
    "    dataset = dataset.map(image_transforms, 'image')\n",
    "    dataset = dataset.map(label_transform, 'label')\n",
    "    dataset = dataset.batch(batch_size)\n",
    "    return dataset\n"
   ]
  },
  {
   "cell_type": "code",
   "execution_count": 69,
   "metadata": {},
   "outputs": [],
   "source": [
    "# Map vision transforms and batch dataset\n",
    "train_dataset = datapipe(train_dataset, 64)\n",
    "test_dataset = datapipe(test_dataset, 64)"
   ]
  },
  {
   "cell_type": "markdown",
   "metadata": {},
   "source": [
    "使用`create_tuple_iterator`或`create_dict_iterator`对数据集进行迭代。\n",
    "\n",
    "【练习三】打印第一个batch中图片的shape和dtype，以及标签的shape和dtype。如上述操作正确，图片的shape应为[64, 1, 28, 28]， 标签的dtype应为Int32。"
   ]
  },
  {
   "cell_type": "code",
   "execution_count": 70,
   "metadata": {},
   "outputs": [
    {
     "name": "stdout",
     "output_type": "stream",
     "text": [
      "Image shape: (64, 1, 28, 28)\n",
      "Image dtype: Float32\n",
      "Label shape: (64,)\n",
      "Label dtype: Int32\n"
     ]
    }
   ],
   "source": [
    "for image, label in train_dataset.create_tuple_iterator():\n",
    "    # 打印图像的shape和dtype\n",
    "    print(\"Image shape:\", image.shape)\n",
    "    print(\"Image dtype:\", image.dtype)\n",
    "    # 打印标签的shape和dtype\n",
    "    print(\"Label shape:\", label.shape)\n",
    "    print(\"Label dtype:\", label.dtype)\n",
    "    break"
   ]
  },
  {
   "cell_type": "markdown",
   "metadata": {},
   "source": [
    "更多细节详见[数据集 Dataset](https://www.mindspore.cn/tutorials/zh-CN/r2.0/beginner/dataset.html)与[数据变换 Transforms](https://www.mindspore.cn/tutorials/zh-CN/r2.0/beginner/transforms.html)。"
   ]
  },
  {
   "cell_type": "markdown",
   "metadata": {},
   "source": [
    "## 网络构建\n",
    "\n",
    "`mindspore.nn`类是构建所有网络的基类，也是网络的基本单元。当用户需要自定义网络时，可以继承`nn.Cell`类，并重写`__init__`方法和`construct`方法。`__init__`包含所有网络层的定义，`construct`中包含数据（[Tensor](https://www.mindspore.cn/tutorials/zh-CN/r2.0/beginner/tensor.html)）的变换过程（即[计算图](https://www.mindspore.cn/tutorials/zh-CN/r2.0/advanced/compute_graph.html)的构造过程）。\n",
    "\n",
    "【练习四】参考如下步骤，完成深度学习网络的搭建\n",
    "\n",
    "1. (已完成) flattern层，将二维图像矩阵转换为一维向量\n",
    "2. 全连接层，输入为28x28图片转换为一维向量后的长度，输出为512\n",
    "3. 非线性激活函数 ReLU\n",
    "4. 全连接层，输入和输出维度相同\n",
    "5. 非线性层ReLU\n",
    "6. 全连接层，输入为上一全连接层的输出维度，输出为分类数\n",
    "\n",
    "可以通过`print(network)`验证网络结构是否正确。"
   ]
  },
  {
   "cell_type": "code",
   "execution_count": 59,
   "metadata": {},
   "outputs": [
    {
     "name": "stdout",
     "output_type": "stream",
     "text": [
      "Network<\n",
      "  (flatten): Flatten<>\n",
      "  (dense_relu_sequential): SequentialCell<\n",
      "    (0): Dense<input_channels=784, output_channels=512, has_bias=True>\n",
      "    (1): ReLU<>\n",
      "    (2): Dense<input_channels=512, output_channels=512, has_bias=True>\n",
      "    (3): ReLU<>\n",
      "    (4): Dense<input_channels=512, output_channels=10, has_bias=True>\n",
      "    >\n",
      "  >\n"
     ]
    }
   ],
   "source": [
    "# Define model\n",
    "class Network(nn.Cell):\n",
    "    def __init__(self):\n",
    "        super().__init__()\n",
    "        self.flatten = nn.Flatten()\n",
    "        # Exercise 4：complete the network\n",
    "        # self.dense_relu_sequential = nn.SequentialCell(\n",
    "        # Add your code here.\n",
    "        # )\n",
    "        self.dense_relu_sequential=nn.SequentialCell(\n",
    "            nn.Dense(28*28,512),\n",
    "            nn.ReLU(),\n",
    "            nn.Dense(512,512),\n",
    "            nn.ReLU(),\n",
    "            nn.Dense(512,10)\n",
    "        )\n",
    "\n",
    "    def construct(self, x):\n",
    "        x = self.flatten(x)\n",
    "        logits = self.dense_relu_sequential(x)\n",
    "        return logits\n",
    "\n",
    "model = Network()\n",
    "print(model)"
   ]
  },
  {
   "cell_type": "markdown",
   "metadata": {},
   "source": [
    "更多细节详见[网络构建](https://www.mindspore.cn/tutorials/zh-CN/r2.0/beginner/model.html)。"
   ]
  },
  {
   "cell_type": "markdown",
   "metadata": {},
   "source": [
    "## 模型训练"
   ]
  },
  {
   "cell_type": "code",
   "execution_count": 71,
   "metadata": {},
   "outputs": [],
   "source": [
    "# Instantiate loss function and optimizer\n",
    "loss_fn = nn.CrossEntropyLoss()\n",
    "optimizer = nn.SGD(model.trainable_params(), 1e-2)"
   ]
  },
  {
   "cell_type": "markdown",
   "metadata": {},
   "source": [
    "在模型训练中，一个完整的训练过程（step）需要实现以下三步：\n",
    "\n",
    "1. **正向计算**：模型预测结果（logits），并与正确标签（label）求预测损失（loss）。\n",
    "2. **反向传播**：利用自动微分机制，自动求模型参数（parameters）对于loss的梯度（gradients）。\n",
    "3. **参数优化**：将梯度更新到参数上。"
   ]
  },
  {
   "cell_type": "markdown",
   "metadata": {},
   "source": [
    "MindSpore使用函数式自动微分机制，因此针对上述步骤需要实现：\n",
    "\n",
    "1. 正向计算函数定义。\n",
    "2. 通过函数变换获得梯度计算函数。\n",
    "3. 训练函数定义，执行正向计算、反向传播和参数优化。\n",
    "\n",
    "【练习五】参考如上步骤，完成训练一个step的代码。"
   ]
  },
  {
   "cell_type": "code",
   "execution_count": 72,
   "metadata": {},
   "outputs": [],
   "source": [
    "# Define forward function\n",
    "def forward_fn(data, label):\n",
    "    # Exercise 5.1: implement the forward function and ensure that it returns both the loss and logits.\n",
    "    # Add your code here.\n",
    "    logits = model(data)\n",
    "    loss = loss_fn(logits, label)\n",
    "    return loss, logits\n",
    "\n",
    "\n",
    "# Get gradient function\n",
    "grad_fn = mindspore.value_and_grad(forward_fn,\n",
    "                                   None,\n",
    "                                   optimizer.parameters,\n",
    "                                   has_aux=True)\n",
    "\n",
    "\n",
    "# Define function of one-step training\n",
    "def train_step(data, label):\n",
    "    # Exercise 5.2: complete train step function to calculate gradients and optimize the model.\n",
    "    # The function should return the loss for current step.\n",
    "    # Add your code here.\n",
    "    (loss, _), grads = grad_fn(data, label)\n",
    "    optimizer(grads)\n",
    "    return loss\n",
    "\n",
    "\n",
    "def train(model, dataset):\n",
    "    size = dataset.get_dataset_size()\n",
    "    model.set_train()\n",
    "    for batch, (data, label) in enumerate(dataset.create_tuple_iterator()):\n",
    "        loss = train_step(data, label)\n",
    "\n",
    "        if batch % 100 == 0:\n",
    "            loss, current = loss.asnumpy(), batch\n",
    "            print(f\"loss: {loss:>7f}  [{current:>3d}/{size:>3d}]\")"
   ]
  },
  {
   "cell_type": "markdown",
   "metadata": {},
   "source": [
    "除训练外，我们定义测试函数，用来评估模型的性能。\n",
    "\n",
    "【练习六】补全代码，使每个epoch可以打印当前的averge loss及accuracy。"
   ]
  },
  {
   "cell_type": "code",
   "execution_count": 73,
   "metadata": {},
   "outputs": [],
   "source": [
    "def test(model, dataset, loss_fn):\n",
    "    num_batches = dataset.get_dataset_size()\n",
    "    model.set_train(False)\n",
    "    total, test_loss, correct = 0, 0, 0\n",
    "    for data, label in dataset.create_tuple_iterator():\n",
    "        pred = model(data)\n",
    "        total += len(data)\n",
    "        # Exercise 6: complete the test fucntion to calculate average loss and accuracy.\n",
    "        # You need to define the following two variables.\n",
    "        # test_loss: loss for current step.\n",
    "        # correct: number of correct predictions for current step.\n",
    "        # Add your code here.\n",
    "        test_loss += loss_fn(pred, label).asnumpy()\n",
    "        correct += (pred.argmax(1) == label).asnumpy().sum()\n",
    "\n",
    "    test_loss /= num_batches\n",
    "    correct /= total\n",
    "    print(f\"Test: \\n Accuracy: {(100*correct):>0.1f}%, Avg loss: {test_loss:>8f} \\n\")"
   ]
  },
  {
   "cell_type": "markdown",
   "metadata": {},
   "source": [
    "训练过程需多次迭代数据集，一次完整的迭代称为一轮（epoch）。在每一轮，遍历训练集进行训练，结束后使用测试集进行预测。打印每一轮的loss值和预测准确率（Accuracy），可以看到loss在不断下降，Accuracy在不断提高。"
   ]
  },
  {
   "cell_type": "code",
   "execution_count": 74,
   "metadata": {},
   "outputs": [
    {
     "name": "stdout",
     "output_type": "stream",
     "text": [
      "Epoch 1\n",
      "-------------------------------\n",
      "loss: 2.302736  [  0/938]\n",
      "loss: 2.289075  [100/938]\n",
      "loss: 2.262667  [200/938]\n",
      "loss: 2.173080  [300/938]\n",
      "loss: 1.975729  [400/938]\n",
      "loss: 1.448676  [500/938]\n",
      "loss: 1.111629  [600/938]\n",
      "loss: 0.871680  [700/938]\n",
      "loss: 0.594046  [800/938]\n",
      "loss: 0.754966  [900/938]\n",
      "Test: \n",
      " Accuracy: 85.0%, Avg loss: 0.521185 \n",
      "\n",
      "Epoch 2\n",
      "-------------------------------\n",
      "loss: 0.411710  [  0/938]\n",
      "loss: 0.411469  [100/938]\n",
      "loss: 0.549565  [200/938]\n",
      "loss: 0.351776  [300/938]\n",
      "loss: 0.569826  [400/938]\n",
      "loss: 0.792263  [500/938]\n",
      "loss: 0.303696  [600/938]\n",
      "loss: 0.189354  [700/938]\n",
      "loss: 0.498547  [800/938]\n",
      "loss: 0.318609  [900/938]\n",
      "Test: \n",
      " Accuracy: 90.2%, Avg loss: 0.339866 \n",
      "\n",
      "Epoch 3\n",
      "-------------------------------\n",
      "loss: 0.325278  [  0/938]\n",
      "loss: 0.261219  [100/938]\n",
      "loss: 0.298562  [200/938]\n",
      "loss: 0.331630  [300/938]\n",
      "loss: 0.279014  [400/938]\n",
      "loss: 0.235020  [500/938]\n",
      "loss: 0.363579  [600/938]\n",
      "loss: 0.445685  [700/938]\n",
      "loss: 0.172381  [800/938]\n",
      "loss: 0.276153  [900/938]\n",
      "Test: \n",
      " Accuracy: 91.5%, Avg loss: 0.287491 \n",
      "\n",
      "Done!\n"
     ]
    }
   ],
   "source": [
    "epochs = 3\n",
    "for t in range(epochs):\n",
    "    print(f\"Epoch {t+1}\\n-------------------------------\")\n",
    "    train(model, train_dataset)\n",
    "    test(model, test_dataset, loss_fn)\n",
    "print(\"Done!\")"
   ]
  },
  {
   "cell_type": "markdown",
   "metadata": {},
   "source": [
    "更多细节详见[模型训练](https://www.mindspore.cn/tutorials/zh-CN/r2.0/beginner/train.html)。"
   ]
  },
  {
   "cell_type": "markdown",
   "metadata": {},
   "source": [
    "## 保存模型\n",
    "\n",
    "模型训练完成后，需要将其参数进行保存。"
   ]
  },
  {
   "cell_type": "code",
   "execution_count": 75,
   "metadata": {},
   "outputs": [
    {
     "name": "stdout",
     "output_type": "stream",
     "text": [
      "Saved Model to model.ckpt\n"
     ]
    }
   ],
   "source": [
    "# Save checkpoint\n",
    "mindspore.save_checkpoint(model, \"model.ckpt\")\n",
    "print(\"Saved Model to model.ckpt\")"
   ]
  },
  {
   "cell_type": "markdown",
   "metadata": {},
   "source": [
    "## 加载模型"
   ]
  },
  {
   "cell_type": "markdown",
   "metadata": {},
   "source": [
    "加载保存的权重分为两步：\n",
    "\n",
    "1. 重新实例化模型对象，构造模型。\n",
    "2. 加载模型参数，并将其加载至模型上。\n",
    "\n",
    "【练习七】\n",
    "1. 通过调用`load_checkpoint`和`load_param_into_net`接口，完成模型权重加载。\n",
    "2. `load_param_into_net`输出未加载权重的参数列表，为空时代表所有参数均加载成功。通过打印`load_param_into_net`结果，验证是否成功加载权重。"
   ]
  },
  {
   "cell_type": "code",
   "execution_count": 76,
   "metadata": {},
   "outputs": [
    {
     "name": "stdout",
     "output_type": "stream",
     "text": [
      "[]\n"
     ]
    }
   ],
   "source": [
    "# Instantiate a random initialized model\n",
    "model = Network()\n",
    "# Load checkpoint and load parameter to model\n",
    "# Exercise 7.1: complete the process of loading checkpoint.\n",
    "param_dict = mindspore.load_checkpoint(\"model.ckpt\")\n",
    "\n",
    "# Exercise 7.2: check if the checkpoint has been successfully loaded by printing the output of load_param_into_net.\n",
    "# Add your code here.\n",
    "param_not_load, _ = mindspore.load_param_into_net(model, param_dict)\n",
    "print(param_not_load)\n"
   ]
  },
  {
   "cell_type": "markdown",
   "metadata": {},
   "source": [
    "加载后的模型可以直接用于预测推理。\n",
    "\n",
    "【练习八】补全代码，完成模型推理。\n",
    "\n",
    "【测验结果提交】打印推理预测结果，将结果截图提交。"
   ]
  },
  {
   "cell_type": "code",
   "execution_count": 79,
   "metadata": {},
   "outputs": [
    {
     "name": "stdout",
     "output_type": "stream",
     "text": [
      "Predicted: \"[3 8 4 4 4 1 7 2 1 3]\", Actual: \"[3 8 4 4 4 1 7 2 1 3]\"\n"
     ]
    }
   ],
   "source": [
    "model.set_train(False)\n",
    "for data, label in test_dataset:\n",
    "    pred = model(data)\n",
    "    # Exercise 8: complete the model inference process.\n",
    "    # Add your code here.\n",
    "    predicted = pred.argmax(1)\n",
    "    print(f'Predicted: \"{predicted[:10]}\", Actual: \"{label[:10]}\"')\n",
    "    break"
   ]
  },
  {
   "cell_type": "markdown",
   "metadata": {},
   "source": [
    "更多细节详见[保存与加载](https://www.mindspore.cn/tutorials/zh-CN/r2.0/beginner/save_load.html)。"
   ]
  }
 ],
 "metadata": {
  "kernelspec": {
   "display_name": "Python 3.7.2 64-bit",
   "language": "python",
   "name": "python3"
  },
  "language_info": {
   "codemirror_mode": {
    "name": "ipython",
    "version": 3
   },
   "file_extension": ".py",
   "mimetype": "text/x-python",
   "name": "python",
   "nbconvert_exporter": "python",
   "pygments_lexer": "ipython3",
   "version": "3.9.16"
  },
  "vscode": {
   "interpreter": {
    "hash": "b3fbd24d2d81707c4b561437a4228ef79a00e041a3a9b4f7e2930dcc6bd46aa3"
   }
  }
 },
 "nbformat": 4,
 "nbformat_minor": 4
}
